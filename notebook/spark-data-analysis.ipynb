{
 "cells": [
  {
   "cell_type": "code",
   "execution_count": 7,
   "metadata": {},
   "outputs": [],
   "source": [
    "\n",
    "import os\n",
    "\n",
    "os.environ[\"JAVA_HOME\"] = \"/usr/lib/jvm/java-8-openjdk-amd64\"\n",
    "os.environ[\"SPARK_HOME\"] = \"/content/spark-3.2.3-bin-hadoop3.2\""
   ]
  },
  {
   "cell_type": "code",
   "execution_count": 1,
   "metadata": {},
   "outputs": [
    {
     "name": "stderr",
     "output_type": "stream",
     "text": [
      "23/05/14 15:45:52 WARN Utils: Your hostname, pop-os resolves to a loopback address: 127.0.1.1; using 192.168.0.21 instead (on interface wlo1)\n",
      "23/05/14 15:45:52 WARN Utils: Set SPARK_LOCAL_IP if you need to bind to another address\n",
      "Setting default log level to \"WARN\".\n",
      "To adjust logging level use sc.setLogLevel(newLevel). For SparkR, use setLogLevel(newLevel).\n",
      "23/05/14 15:45:53 WARN NativeCodeLoader: Unable to load native-hadoop library for your platform... using builtin-java classes where applicable\n",
      "                                                                                \r"
     ]
    },
    {
     "name": "stdout",
     "output_type": "stream",
     "text": [
      "+-----+\n",
      "|Hola |\n",
      "+-----+\n",
      "|Mundo|\n",
      "|Mundo|\n",
      "|Mundo|\n",
      "|Mundo|\n",
      "|Mundo|\n",
      "|Mundo|\n",
      "|Mundo|\n",
      "|Mundo|\n",
      "|Mundo|\n",
      "|Mundo|\n",
      "+-----+\n",
      "\n"
     ]
    }
   ],
   "source": [
    "\n",
    "import findspark\n",
    "\n",
    "findspark.init()\n",
    "\n",
    "from pyspark.sql import SparkSession\n",
    "\n",
    "spark = SparkSession.builder.master(\"local[*]\").getOrCreate()\n",
    "\n",
    "# Probando la sesión de Spark\n",
    "df = spark.createDataFrame([{\"Hola\": \"Mundo\"} for x in range(10)])\n",
    "\n",
    "df.show(10, False)"
   ]
  },
  {
   "attachments": {},
   "cell_type": "markdown",
   "metadata": {},
   "source": [
    "#### Reading data"
   ]
  },
  {
   "cell_type": "code",
   "execution_count": 5,
   "metadata": {},
   "outputs": [],
   "source": [
    "from pyspark.sql.types import Row, StructType, StructField, IntegerType, StringType, DateType, TimestampType, \\\n",
    "    LongType, FloatType"
   ]
  },
  {
   "cell_type": "code",
   "execution_count": 14,
   "metadata": {},
   "outputs": [],
   "source": [
    "schema_music_info = StructType() \\\n",
    "      .add(\"track_id\",StringType(),True) \\\n",
    "      .add(\"name\",StringType(),True) \\\n",
    "      .add(\"artist\", StringType(), True) \\\n",
    "      .add(\"spotify_preview_url\", StringType(), True) \\\n",
    "      .add(\"spotify_id\", StringType(), True) \\\n",
    "      .add(\"tags\", StringType(), True) \\\n",
    "      .add(\"genre\", StringType(), True) \\\n",
    "      .add(\"year\", DateType(), True) \\\n",
    "      .add(\"duration_ms\", LongType(), True) \\\n",
    "      .add(\"danceability\", FloatType(), True) \\\n",
    "      .add(\"energy\", FloatType(), True) \\\n",
    "      .add(\"key\", IntegerType(), True) \\\n",
    "      .add(\"loudness\", FloatType(), True) \\\n",
    "      .add(\"mode\", IntegerType(), True) \\\n",
    "      .add(\"speechiness\", FloatType(), True) \\\n",
    "      .add(\"acousticness\", FloatType(), True) \\\n",
    "      .add(\"instrumentalness\", FloatType(), True) \\\n",
    "      .add(\"liveness\", FloatType(), True) \\\n",
    "      .add(\"valance\", FloatType(), True) \\\n",
    "      .add(\"tempo\", FloatType(), True) \\\n",
    "      .add(\"time_signature\", IntegerType(), True)"
   ]
  },
  {
   "cell_type": "code",
   "execution_count": 15,
   "metadata": {},
   "outputs": [],
   "source": [
    "df_music_info = spark.read.option(\"header\",True) \\\n",
    "     .schema(schema_music_info) \\\n",
    "     .csv(\"../data/Music Info.csv\")"
   ]
  },
  {
   "cell_type": "code",
   "execution_count": 16,
   "metadata": {},
   "outputs": [
    {
     "name": "stdout",
     "output_type": "stream",
     "text": [
      "root\n",
      " |-- track_id: string (nullable = true)\n",
      " |-- name: string (nullable = true)\n",
      " |-- artist: string (nullable = true)\n",
      " |-- spotify_preview_url: string (nullable = true)\n",
      " |-- spotify_id: string (nullable = true)\n",
      " |-- tags: string (nullable = true)\n",
      " |-- genre: string (nullable = true)\n",
      " |-- year: date (nullable = true)\n",
      " |-- duration_ms: long (nullable = true)\n",
      " |-- danceability: float (nullable = true)\n",
      " |-- energy: float (nullable = true)\n",
      " |-- key: integer (nullable = true)\n",
      " |-- loudness: float (nullable = true)\n",
      " |-- mode: integer (nullable = true)\n",
      " |-- speechiness: float (nullable = true)\n",
      " |-- acousticness: float (nullable = true)\n",
      " |-- instrumentalness: float (nullable = true)\n",
      " |-- liveness: float (nullable = true)\n",
      " |-- valance: float (nullable = true)\n",
      " |-- tempo: float (nullable = true)\n",
      " |-- time_signature: integer (nullable = true)\n",
      "\n"
     ]
    }
   ],
   "source": [
    "df_music_info.printSchema()"
   ]
  },
  {
   "cell_type": "code",
   "execution_count": 17,
   "metadata": {},
   "outputs": [
    {
     "name": "stdout",
     "output_type": "stream",
     "text": [
      "+------------------+-----------------------+---------------------+-----------------------------------------------------------------------------------------------------------+----------------------+-------------------------------------------------------------------------------------------------------------------------+----------+----------+-----------+------------+------+---+--------+----+-----------+------------+----------------+--------+-------+-------+--------------+\n",
      "|track_id          |name                   |artist               |spotify_preview_url                                                                                        |spotify_id            |tags                                                                                                                     |genre     |year      |duration_ms|danceability|energy|key|loudness|mode|speechiness|acousticness|instrumentalness|liveness|valance|tempo  |time_signature|\n",
      "+------------------+-----------------------+---------------------+-----------------------------------------------------------------------------------------------------------+----------------------+-------------------------------------------------------------------------------------------------------------------------+----------+----------+-----------+------------+------+---+--------+----+-----------+------------+----------------+--------+-------+-------+--------------+\n",
      "|TRIOREW128F424EAF0|Mr. Brightside         |The Killers          |https://p.scdn.co/mp3-preview/4d26180e6961fd46866cd9106936ea55dfcbaa75?cid=774b29d4f13844c495f206cafdad9c86|09ZQ5TmUG8TSL56n0knqrj|rock, alternative, indie, alternative_rock, indie_rock, 00s                                                              |null      |2004-01-01|222200     |0.355       |0.918 |1  |-4.36   |1   |0.0746     |0.00119     |0.0             |0.0971  |0.24   |148.114|4             |\n",
      "|TRRIVDJ128F429B0E8|Wonderwall             |Oasis                |https://p.scdn.co/mp3-preview/d012e536916c927bd6c8ced0dae75ee3b7715983?cid=774b29d4f13844c495f206cafdad9c86|06UfBBDISthj1ZJAtX4xjj|rock, alternative, indie, pop, alternative_rock, british, 90s, love, britpop                                             |null      |2006-01-01|258613     |0.409       |0.892 |2  |-4.373  |1   |0.0336     |8.07E-4     |0.0             |0.207   |0.651  |174.426|4             |\n",
      "|TROUVHL128F426C441|Come as You Are        |Nirvana              |https://p.scdn.co/mp3-preview/a1c11bb1cb231031eb20e5951a8bfb30503224e9?cid=774b29d4f13844c495f206cafdad9c86|0keNu0t0tqsWtExGM3nT1D|rock, alternative, alternative_rock, 90s, grunge                                                                         |RnB       |1991-01-01|218920     |0.508       |0.826 |4  |-5.783  |0   |0.04       |1.75E-4     |4.59E-4         |0.0878  |0.543  |120.012|4             |\n",
      "|TRUEIND128F93038C4|Take Me Out            |Franz Ferdinand      |https://p.scdn.co/mp3-preview/399c401370438be449c2aebff816ba8c62559871?cid=774b29d4f13844c495f206cafdad9c86|0ancVQ9wEcHVd0RrGICTE4|rock, alternative, indie, alternative_rock, indie_rock, british, 00s, britpop                                            |null      |2004-01-01|237026     |0.279       |0.664 |9  |-8.851  |1   |0.0371     |3.89E-4     |6.55E-4         |0.133   |0.49   |104.56 |4             |\n",
      "|TRLNZBD128F935E4D8|Creep                  |Radiohead            |https://p.scdn.co/mp3-preview/e7eb60e9466bc3a27299ea8803aadf4fa9cf795c?cid=774b29d4f13844c495f206cafdad9c86|01QoK9DA7VTeTSE3MNzp4I|rock, alternative, indie, alternative_rock, indie_rock, british, 90s, britpop                                            |RnB       |2008-01-01|238640     |0.515       |0.43  |7  |-9.935  |1   |0.0369     |0.0102      |1.41E-4         |0.129   |0.104  |91.841 |4             |\n",
      "|TRUMISQ128F9340BEE|Somebody Told Me       |The Killers          |https://p.scdn.co/mp3-preview/0d07673cfb46218a49c96eed639933f19b45cf9c?cid=774b29d4f13844c495f206cafdad9c86|0FNmIQ7u45Lhdn6RHhSLix|rock, alternative, indie, pop, alternative_rock, indie_rock                                                              |null      |2005-01-01|198480     |0.508       |0.979 |10 |-4.289  |0   |0.0847     |8.71E-5     |6.43E-4         |0.0641  |0.704  |138.03 |4             |\n",
      "|TRVCCWR128F9304A30|Viva la Vida           |Coldplay             |https://p.scdn.co/mp3-preview/ab747fed1bfab2ac2c8ef7a260822520f6345113?cid=774b29d4f13844c495f206cafdad9c86|08A1lZeyLMWH58DT6aYjnC|rock, alternative, indie, pop, alternative_rock, british, britpop                                                        |null      |2013-01-01|235384     |0.588       |0.806 |8  |-7.903  |1   |0.105      |0.153       |0.0             |0.0634  |0.52   |137.973|4             |\n",
      "|TRXOGZT128F424AD74|Karma Police           |Radiohead            |https://p.scdn.co/mp3-preview/5a09f5390e2862af1687f3671db3d6f84a813a45?cid=774b29d4f13844c495f206cafdad9c86|01puceOqImrzSfKDAcd1Ia|rock, alternative, indie, alternative_rock, indie_rock, british, 90s, britpop                                            |null      |1996-01-01|264066     |0.36        |0.505 |7  |-9.129  |1   |0.026      |0.0626      |9.22E-5         |0.172   |0.317  |74.807 |4             |\n",
      "|TRMZXEW128F9341FD5|The Scientist          |Coldplay             |https://p.scdn.co/mp3-preview/95cb9df1b056d759920b5e85ad7f9aff0a390671?cid=774b29d4f13844c495f206cafdad9c86|0GSSsT9szp0rJkBrYkzy6s|rock, alternative, indie, pop, alternative_rock, british, piano, love, beautiful, 00s, britpop, mellow                   |Rock      |2007-01-01|311014     |0.566       |0.429 |5  |-7.826  |1   |0.0242     |0.715       |1.44E-5         |0.12    |0.173  |146.365|4             |\n",
      "|TRUJIIV12903CA8848|Clocks                 |Coldplay             |https://p.scdn.co/mp3-preview/24c7fe858b234e3cb21872cd03ab44b669163fbb?cid=774b29d4f13844c495f206cafdad9c86|0BCPKOYdS2jbQ8iyB56Zns|rock, alternative, indie, pop, alternative_rock, british, chillout, piano, britpop                                       |null      |2002-01-01|307879     |0.577       |0.749 |5  |-7.215  |0   |0.0279     |0.599       |0.0115          |0.183   |0.255  |130.97 |4             |\n",
      "|TRIODZU128E078F3E2|Under the Bridge       |Red Hot Chili Peppers|https://p.scdn.co/mp3-preview/90e41778392f27b6f7dd82db4c90916b3727aa6a?cid=774b29d4f13844c495f206cafdad9c86|06zh28PcYIFvNOAz5Wq2Xb|rock, alternative, alternative_rock, 90s, funk                                                                           |Pop       |2003-01-01|265506     |0.554       |0.49  |4  |-8.046  |1   |0.0457     |0.0168      |5.34E-4         |0.136   |0.513  |84.275 |4             |\n",
      "|TRURKLR12903CEBD47|Seven Nation Army      |The White Stripes    |https://p.scdn.co/mp3-preview/0cf1b44cf203258ea446560c62e891b887262024?cid=774b29d4f13844c495f206cafdad9c86|025zyxycElQVXwZSzrvJQr|rock, alternative, indie, alternative_rock, indie_rock                                                                   |null      |2008-01-01|232680     |0.759       |0.465 |4  |-7.602  |0   |0.0806     |0.00662     |0.288           |0.257   |0.305  |124.049|4             |\n",
      "|TRYEZGE128F92D04C8|Feel Good Inc.         |Gorillaz             |https://p.scdn.co/mp3-preview/7388c425022ced92b1caa7f73bcf0cb3080aee47?cid=774b29d4f13844c495f206cafdad9c86|09xrHi86kLkEIzDLZiHNnv|rock, electronic, alternative, indie, pop, alternative_rock, dance, british, hip_hop, trip_hop                           |RnB       |2010-01-01|223106     |0.809       |0.72  |6  |-7.776  |1   |0.136      |0.0337      |0.00141         |0.826   |0.832  |138.556|4             |\n",
      "|TRUENYK128F4274057|Chop Suey!             |System of a Down     |https://p.scdn.co/mp3-preview/cd2a1f9fd7619bdae4e2e718b11d5bb054a3d677?cid=774b29d4f13844c495f206cafdad9c86|0EIIqshB4doby2sMQpeqGN|rock, alternative, metal, alternative_rock, hard_rock, nu_metal                                                          |Metal     |2008-01-01|210480     |0.42        |0.925 |7  |-4.217  |0   |0.12       |3.63E-4     |0.002           |0.1     |0.322  |127.422|4             |\n",
      "|TRXNTMB12903CA884A|Fix You                |Coldplay             |https://p.scdn.co/mp3-preview/b1640815319b2df5ddfac27a28f016319a281468?cid=774b29d4f13844c495f206cafdad9c86|0Kk4dfh9Kq7Okg4T58IBVR|rock, alternative, indie, pop, alternative_rock, british, love, beautiful, britpop, mellow                               |null      |2016-01-01|295826     |0.213       |0.416 |3  |-8.683  |1   |0.0336     |0.164       |0.00168         |0.11    |0.129  |138.478|4             |\n",
      "|TRREXPI128E078EE14|Lithium                |Nirvana              |https://p.scdn.co/mp3-preview/e346fce09e0dc8858d279bb42d5bf41bd9e603bb?cid=774b29d4f13844c495f206cafdad9c86|07hCnHx9DhqZg5eN6RvCbd|rock, alternative, alternative_rock, 90s, grunge                                                                         |null      |1991-01-01|257053     |0.678       |0.656 |7  |-6.41   |1   |0.0381     |0.00174     |0.0             |0.0631  |0.485  |123.207|4             |\n",
      "|TRAJBOD128F9303DCD|Song 2                 |Blur                 |https://p.scdn.co/mp3-preview/183c0855e94b58dcb267e2b0721d4a3c99260acf?cid=774b29d4f13844c495f206cafdad9c86|0g0VHJLFYFN3yHZImyQhPA|rock, alternative, indie, alternative_rock, indie_rock, british, 90s, britpop                                            |null      |2012-01-01|122080     |0.676       |0.723 |8  |-5.127  |1   |0.131      |0.00227     |0.0199          |0.0897  |0.779  |129.7  |4             |\n",
      "|TRFNTDZ128F426B34D|In the End             |Linkin Park          |https://p.scdn.co/mp3-preview/6ce8bcf317e8c562f348ea22c846846b5b70e8d9?cid=774b29d4f13844c495f206cafdad9c86|138JuTi1U3WIROalXod9FB|rock, alternative, metal, alternative_rock, nu_metal                                                                     |null      |2000-01-01|216933     |0.542       |0.853 |3  |-6.407  |0   |0.0498     |0.0103      |0.0             |0.108   |0.37   |105.256|4             |\n",
      "|TRCSXPV128F425E2F7|Chasing Cars           |Snow Patrol          |https://p.scdn.co/mp3-preview/f6718903c52c507068a15158552eab1f4d8da28f?cid=774b29d4f13844c495f206cafdad9c86|01Jvw9zNg5LM2RF8WNfnLy|rock, alternative, indie, pop, alternative_rock, indie_rock, british, love, beautiful, britpop, mellow                   |null      |2006-01-01|265573     |0.558       |0.568 |9  |-5.731  |1   |0.0267     |0.211       |5.0E-5          |0.104   |0.125  |104.0  |4             |\n",
      "|TRDKPRZ128F92F37EA|Otherside              |Red Hot Chili Peppers|https://p.scdn.co/mp3-preview/fe298962db3331e8523c714490c678be5313809a?cid=774b29d4f13844c495f206cafdad9c86|0lfH1VLbnBywPOmIMit60M|rock, alternative, alternative_rock, 90s, funk                                                                           |null      |2014-01-01|255400     |0.459       |0.795 |0  |-3.265  |1   |0.0575     |0.00316     |2.02E-4         |0.0751  |0.513  |123.23 |4             |\n",
      "|TRIQRZJ128F14898B4|When You Were Young    |The Killers          |https://p.scdn.co/mp3-preview/8c8377ba2344ad94b74122033b070adcd361bdb2?cid=774b29d4f13844c495f206cafdad9c86|028sncWcELBmNBE6RYSRxh|rock, alternative, indie, alternative_rock, indie_rock                                                                   |null      |2012-01-01|218053     |0.466       |0.981 |8  |-3.944  |0   |0.112      |1.24E-4     |0.0683          |0.323   |0.313  |130.403|4             |\n",
      "|TRRPNNQ12903CB411A|Supermassive Black Hole|Muse                 |https://p.scdn.co/mp3-preview/7ab3e38ce1671da3a185d8685981983a6f39b7bd?cid=774b29d4f13844c495f206cafdad9c86|0v6Mi3f552jMW6dhYoKAbC|rock, alternative, indie, alternative_rock, indie_rock, progressive_rock, british                                        |null      |2010-01-01|209546     |0.667       |0.891 |7  |-5.126  |1   |0.0445     |0.0397      |0.00715         |0.284   |0.837  |120.01 |4             |\n",
      "|TRRSVFJ128F426FB31|Bohemian Rhapsody      |Queen                |https://p.scdn.co/mp3-preview/d1ff0ba5c5538ca2c50b808aab2278253c98b038?cid=774b29d4f13844c495f206cafdad9c86|0LiLzOhHCyGnCX1znFrtul|rock, classic_rock, hard_rock, 80s, british, 70s                                                                         |null      |2016-01-01|356086     |0.405       |0.405 |0  |-9.259  |0   |0.051      |0.133       |2.23E-6         |0.259   |0.228  |141.173|4             |\n",
      "|TRWEHTV12903D086FC|Use Somebody           |Kings of Leon        |https://p.scdn.co/mp3-preview/c1f5819057f7528777163bf7d75bf8609553c5be?cid=774b29d4f13844c495f206cafdad9c86|03BednbxXIA23kUtR5HMQ9|rock, alternative, indie, alternative_rock, indie_rock                                                                   |Electronic|2003-01-01|230960     |0.276       |0.755 |0  |-5.406  |1   |0.046      |0.00583     |5.43E-4         |0.183   |0.194  |137.149|4             |\n",
      "|TRLSLNY128F93265C9|Starlight              |Muse                 |https://p.scdn.co/mp3-preview/f7a1b8a270f310e43ced2720c9af5f29f6476b79?cid=774b29d4f13844c495f206cafdad9c86|0hlK03xCSPtLSFJdlZM2kZ|rock, alternative, indie, alternative_rock, indie_rock, progressive_rock, british, beautiful, britpop                    |null      |2006-01-01|243293     |0.555       |0.88  |1  |-3.888  |0   |0.0312     |2.12E-4     |1.98E-4         |0.127   |0.266  |121.57 |4             |\n",
      "|TRIQWYH128F1486062|Paranoid Android       |Radiohead            |https://p.scdn.co/mp3-preview/d68bd7fa4f0bd86ec2ebbd7ac73c2716a00a3486?cid=774b29d4f13844c495f206cafdad9c86|0bomiLGPTUNyk3mV19pbwN|rock, electronic, alternative, indie, alternative_rock, experimental, indie_rock, progressive_rock, british, 90s, britpop|Jazz      |2012-01-01|384933     |0.232       |0.8   |5  |-6.863  |1   |0.0573     |0.0523      |0.00606         |0.118   |0.299  |81.849 |4             |\n",
      "|TRXZBFS128F92F24D2|Everlong               |Foo Fighters         |https://p.scdn.co/mp3-preview/26f7feca8e14f27659465e336117c03fb8ee29d4?cid=774b29d4f13844c495f206cafdad9c86|07q6QTQXyPRCf7GbLakRPr|rock, alternative, alternative_rock, hard_rock, 90s, grunge                                                              |null      |2009-01-01|249986     |0.415       |0.867 |11 |-5.497  |0   |0.0387     |5.69E-5     |1.92E-4         |0.0883  |0.36   |157.902|4             |\n",
      "|TRAGABG12903CEC68B|No Surprises           |Radiohead            |https://p.scdn.co/mp3-preview/de1369604de29117d80cfe277054c5d0d11ef732?cid=774b29d4f13844c495f206cafdad9c86|0ijMYjXk5iRZp2VsiC8MC8|rock, alternative, indie, alternative_rock, indie_rock, british, 90s, beautiful, britpop, mellow                         |null      |2008-01-01|229120     |0.255       |0.393 |5  |-10.654 |1   |0.0278     |0.0577      |0.00361         |0.113   |0.118  |76.426 |4             |\n",
      "|TRBBHPO128F930F55D|Iris                   |Goo Goo Dolls        |https://p.scdn.co/mp3-preview/0e87ade9fa869e31b3c32115c2c10ee8fa522c81?cid=774b29d4f13844c495f206cafdad9c86|0Ik6qKLeS741z2Xl2oy0YS|rock, alternative, pop, alternative_rock, soundtrack, 90s, love, beautiful                                               |null      |2013-01-01|289533     |0.315       |0.715 |11 |-8.072  |0   |0.0362     |0.00125     |7.97E-6         |0.0942  |0.497  |155.925|3             |\n",
      "|TRXCXKA128F92E6258|Numb                   |Linkin Park          |https://p.scdn.co/mp3-preview/e6ccf7717f8a167bfea4afc1bf7da1a0cd707fbb?cid=774b29d4f13844c495f206cafdad9c86|0kO3njY9N1Rxgv27Ha1lLh|rock, alternative, metal, alternative_rock, nu_metal                                                                     |null      |2003-01-01|185586     |0.496       |0.863 |9  |-4.153  |1   |0.0381     |0.0046      |0.0             |0.639   |0.243  |110.018|4             |\n",
      "+------------------+-----------------------+---------------------+-----------------------------------------------------------------------------------------------------------+----------------------+-------------------------------------------------------------------------------------------------------------------------+----------+----------+-----------+------------+------+---+--------+----+-----------+------------+----------------+--------+-------+-------+--------------+\n",
      "only showing top 30 rows\n",
      "\n"
     ]
    },
    {
     "name": "stderr",
     "output_type": "stream",
     "text": [
      "23/05/14 16:11:37 WARN CSVHeaderChecker: CSV header does not conform to the schema.\n",
      " Header: track_id, name, artist, spotify_preview_url, spotify_id, tags, genre, year, duration_ms, danceability, energy, key, loudness, mode, speechiness, acousticness, instrumentalness, liveness, valence, tempo, time_signature\n",
      " Schema: track_id, name, artist, spotify_preview_url, spotify_id, tags, genre, year, duration_ms, danceability, energy, key, loudness, mode, speechiness, acousticness, instrumentalness, liveness, valance, tempo, time_signature\n",
      "Expected: valance but found: valence\n",
      "CSV file: file:///home/crisisanchez/Documentos/maestria/tercer_semestre/Big_Data/final_project/million-songs-big-data-analysis/data/Music%20Info.csv\n"
     ]
    }
   ],
   "source": [
    "df_music_info.show(n=30, truncate=False)"
   ]
  },
  {
   "cell_type": "code",
   "execution_count": 9,
   "metadata": {},
   "outputs": [],
   "source": [
    "schema_user_listening_history = StructType() \\\n",
    "      .add(\"track_id\",StringType(),True) \\\n",
    "      .add(\"user_id\",StringType(),True) \\\n",
    "      .add(\"playcount\", IntegerType(), True) "
   ]
  },
  {
   "cell_type": "code",
   "execution_count": 10,
   "metadata": {},
   "outputs": [],
   "source": [
    "df_user_listening_history = spark.read.option(\"header\",True) \\\n",
    "     .schema(schema_user_listening_history) \\\n",
    "     .csv(\"../data/User Listening History.csv\")"
   ]
  },
  {
   "cell_type": "code",
   "execution_count": 11,
   "metadata": {},
   "outputs": [
    {
     "name": "stdout",
     "output_type": "stream",
     "text": [
      "root\n",
      " |-- track_id: string (nullable = true)\n",
      " |-- user_id: string (nullable = true)\n",
      " |-- playcount: integer (nullable = true)\n",
      "\n"
     ]
    }
   ],
   "source": [
    "df_user_listening_history.printSchema()"
   ]
  },
  {
   "cell_type": "code",
   "execution_count": 12,
   "metadata": {},
   "outputs": [
    {
     "name": "stderr",
     "output_type": "stream",
     "text": [
      "[Stage 5:>                                                          (0 + 1) / 1]\r"
     ]
    },
    {
     "name": "stdout",
     "output_type": "stream",
     "text": [
      "+------------------+----------------------------------------+---------+\n",
      "|track_id          |user_id                                 |playcount|\n",
      "+------------------+----------------------------------------+---------+\n",
      "|TRIRLYL128F42539D1|b80344d063b5ccb3212f76538f3d9e43d87dca9e|1        |\n",
      "|TRFUPBA128F934F7E1|b80344d063b5ccb3212f76538f3d9e43d87dca9e|1        |\n",
      "|TRLQPQJ128F42AA94F|b80344d063b5ccb3212f76538f3d9e43d87dca9e|1        |\n",
      "|TRTUCUY128F92E1D24|b80344d063b5ccb3212f76538f3d9e43d87dca9e|1        |\n",
      "|TRHDDQG12903CB53EE|b80344d063b5ccb3212f76538f3d9e43d87dca9e|1        |\n",
      "|TRGRDEC128F423C07D|b80344d063b5ccb3212f76538f3d9e43d87dca9e|1        |\n",
      "|TRRYCBO128F932A2C7|b80344d063b5ccb3212f76538f3d9e43d87dca9e|1        |\n",
      "|TRUTULC128F4293712|b80344d063b5ccb3212f76538f3d9e43d87dca9e|1        |\n",
      "|TRAAHSY128F147BB5C|b80344d063b5ccb3212f76538f3d9e43d87dca9e|2        |\n",
      "|TRDLMWP128F426BF6C|b80344d063b5ccb3212f76538f3d9e43d87dca9e|1        |\n",
      "|TRMSZXT128F92F7816|b80344d063b5ccb3212f76538f3d9e43d87dca9e|1        |\n",
      "|TRVODUZ128F934D094|b80344d063b5ccb3212f76538f3d9e43d87dca9e|1        |\n",
      "|TRLXSNR128F429361D|b80344d063b5ccb3212f76538f3d9e43d87dca9e|1        |\n",
      "|TRPUGUW128F426BF6F|b80344d063b5ccb3212f76538f3d9e43d87dca9e|1        |\n",
      "|TRAUCNU128F42671EB|b80344d063b5ccb3212f76538f3d9e43d87dca9e|1        |\n",
      "|TRVVWSW128F4292931|b80344d063b5ccb3212f76538f3d9e43d87dca9e|1        |\n",
      "|TRADVZX128F426BF79|b80344d063b5ccb3212f76538f3d9e43d87dca9e|1        |\n",
      "|TRDCZUX128F4263A74|b80344d063b5ccb3212f76538f3d9e43d87dca9e|1        |\n",
      "|TRUYKTB128F1459197|b80344d063b5ccb3212f76538f3d9e43d87dca9e|1        |\n",
      "|TRQLOHS128F42435AE|b80344d063b5ccb3212f76538f3d9e43d87dca9e|1        |\n",
      "|TRCTFBL128F42934F3|85c1f87fea955d09b4bec2e36aee110927aedf9a|2        |\n",
      "|TRPGYLT128F428AD02|85c1f87fea955d09b4bec2e36aee110927aedf9a|3        |\n",
      "|TRAEGXU128F9304D31|bd4c6e843f00bd476847fb75c47b4fb430a06856|1        |\n",
      "|TRFNNFP128F146CB4B|bd4c6e843f00bd476847fb75c47b4fb430a06856|1        |\n",
      "|TRWCEKE128F93191BE|bd4c6e843f00bd476847fb75c47b4fb430a06856|2        |\n",
      "|TRADEOV128F9330E3B|bd4c6e843f00bd476847fb75c47b4fb430a06856|1        |\n",
      "|TRTQVKS128F92EF9BE|bd4c6e843f00bd476847fb75c47b4fb430a06856|1        |\n",
      "|TRSGIYX128F149F01F|969cc6fb74e076a68e36a04409cb9d3765757508|1        |\n",
      "|TRXWAZC128F9314B3E|969cc6fb74e076a68e36a04409cb9d3765757508|1        |\n",
      "|TRDOYFZ128F426E715|969cc6fb74e076a68e36a04409cb9d3765757508|1        |\n",
      "+------------------+----------------------------------------+---------+\n",
      "only showing top 30 rows\n",
      "\n"
     ]
    },
    {
     "name": "stderr",
     "output_type": "stream",
     "text": [
      "                                                                                \r"
     ]
    }
   ],
   "source": [
    "df_user_listening_history.show(n=30, truncate=False)"
   ]
  },
  {
   "attachments": {},
   "cell_type": "markdown",
   "metadata": {},
   "source": [
    "### Analysis "
   ]
  },
  {
   "cell_type": "code",
   "execution_count": 19,
   "metadata": {},
   "outputs": [
    {
     "name": "stderr",
     "output_type": "stream",
     "text": [
      "[Stage 8:>                                                          (0 + 4) / 4]\r"
     ]
    },
    {
     "name": "stdout",
     "output_type": "stream",
     "text": [
      "+----------+\n",
      "|     genre|\n",
      "+----------+\n",
      "|     World|\n",
      "|     Latin|\n",
      "|     Metal|\n",
      "|      Rock|\n",
      "|      Jazz|\n",
      "|      null|\n",
      "|   New Age|\n",
      "|      Folk|\n",
      "|       RnB|\n",
      "|     Blues|\n",
      "|       Pop|\n",
      "|      Punk|\n",
      "|       Rap|\n",
      "|    Reggae|\n",
      "|Electronic|\n",
      "|   Country|\n",
      "+----------+\n",
      "\n"
     ]
    },
    {
     "name": "stderr",
     "output_type": "stream",
     "text": [
      "                                                                                \r"
     ]
    }
   ],
   "source": [
    "df_music_info.select('genre').distinct().show()"
   ]
  },
  {
   "cell_type": "code",
   "execution_count": 20,
   "metadata": {},
   "outputs": [],
   "source": [
    "df_music_info.createOrReplaceTempView(\"tempv_music_info\")"
   ]
  },
  {
   "cell_type": "code",
   "execution_count": 44,
   "metadata": {},
   "outputs": [
    {
     "name": "stdout",
     "output_type": "stream",
     "text": [
      "+----------------+\n",
      "|count_genre_null|\n",
      "+----------------+\n",
      "|           28335|\n",
      "+----------------+\n",
      "\n"
     ]
    }
   ],
   "source": [
    "query_null_genre = \"\"\"\n",
    "SELECT count(*) as count_genre_null\n",
    "FROM tempv_music_info\n",
    "WHERE genre IS NULL\n",
    "\"\"\"\n",
    "spark.sql(query_null_genre).show()"
   ]
  },
  {
   "cell_type": "code",
   "execution_count": 45,
   "metadata": {},
   "outputs": [
    {
     "name": "stdout",
     "output_type": "stream",
     "text": [
      "+----------------+\n",
      "|count_genre_null|\n",
      "+----------------+\n",
      "|           22348|\n",
      "+----------------+\n",
      "\n"
     ]
    }
   ],
   "source": [
    "query_null_genre = \"\"\"\n",
    "SELECT count(*) as count_genre_null\n",
    "FROM tempv_music_info\n",
    "WHERE genre IS NOT NULL\n",
    "\"\"\"\n",
    "spark.sql(query_null_genre).show()"
   ]
  },
  {
   "attachments": {},
   "cell_type": "markdown",
   "metadata": {},
   "source": [
    "Taking into account more than the 50% of the data in 'genre' is missing, we would not consider the genre of the song for the analysis. "
   ]
  }
 ],
 "metadata": {
  "kernelspec": {
   "display_name": "Python 3",
   "language": "python",
   "name": "python3"
  },
  "language_info": {
   "codemirror_mode": {
    "name": "ipython",
    "version": 3
   },
   "file_extension": ".py",
   "mimetype": "text/x-python",
   "name": "python",
   "nbconvert_exporter": "python",
   "pygments_lexer": "ipython3",
   "version": "3.10.6"
  },
  "orig_nbformat": 4
 },
 "nbformat": 4,
 "nbformat_minor": 2
}
